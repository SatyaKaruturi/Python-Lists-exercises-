{
  "nbformat": 4,
  "nbformat_minor": 0,
  "metadata": {
    "colab": {
      "name": "Python et les listes_Satya.ipynb",
      "provenance": [],
      "collapsed_sections": [],
      "include_colab_link": true
    },
    "kernelspec": {
      "name": "python3",
      "display_name": "Python 3"
    }
  },
  "cells": [
    {
      "cell_type": "markdown",
      "metadata": {
        "id": "view-in-github",
        "colab_type": "text"
      },
      "source": [
        "<a href=\"https://colab.research.google.com/github/SatyaKaruturi/Python-Lists-exercises-/blob/master/Python_et_les_listes_Satya.ipynb\" target=\"_parent\"><img src=\"https://colab.research.google.com/assets/colab-badge.svg\" alt=\"Open In Colab\"/></a>"
      ]
    },
    {
      "cell_type": "markdown",
      "metadata": {
        "id": "LoJw-LlCTnWF",
        "colab_type": "text"
      },
      "source": [
        "# Mission 1\n",
        "\n",
        "Crée une fonction qui prend en paramètre une liste et affiche uniquement les éléments (et leur position) dont les positions sont paires (0, 2, 4, 6...).\n",
        "\n",
        "Exemple pour la liste = [\"a\", \"b\", \"c\", \"d\", \"e\"], la fonction renverra : \n",
        "- a position 0\n",
        "- c position 2\n",
        "- e position 4"
      ]
    },
    {
      "cell_type": "code",
      "metadata": {
        "id": "C2Lk113KSPUO",
        "colab_type": "code",
        "outputId": "a87d8e66-b57e-4ff8-84df-094782740ad4",
        "colab": {
          "base_uri": "https://localhost:8080/",
          "height": 67
        }
      },
      "source": [
        "\n",
        "\n",
        "def fonction(my_liste):\n",
        "  for i in range(len(my_liste)):\n",
        "    if i % 2 == 0:\n",
        "      count = i\n",
        "      print(my_liste[count], \" \",\"position\",\" \", count, sep='')\n",
        "      i += 1   \n",
        "fonction([\"a\",\"b\",\"c\",\"d\",\"e\"])\n"
      ],
      "execution_count": 0,
      "outputs": [
        {
          "output_type": "stream",
          "text": [
            "a position 0\n",
            "c position 2\n",
            "e position 4\n"
          ],
          "name": "stdout"
        }
      ]
    },
    {
      "cell_type": "markdown",
      "metadata": {
        "id": "J3bsGIvAT049",
        "colab_type": "text"
      },
      "source": [
        "# Mission 2\n",
        "\n",
        "Crée une fonction qui prend en paramètre une liste. Ensuite cette fonction permet de remplacer la valeur d'un élément en indiquant sa position, uniquement si l'élément à remplacé est de même type que l'élément qui sera remplacé."
      ]
    },
    {
      "cell_type": "code",
      "metadata": {
        "id": "Fy1OmPSUXNaP",
        "colab_type": "code",
        "outputId": "7305c450-5700-4e3d-ace6-5a946b95dadd",
        "colab": {
          "base_uri": "https://localhost:8080/",
          "height": 34
        }
      },
      "source": [
        "def change_value(my_liste, value):\n",
        "  for i in range(len(my_liste)):\n",
        "    if type(value) == int:\n",
        "     if my_liste[i] == value:\n",
        "      my_liste[i] = 40\n",
        "      return(my_liste)\n",
        "change_value([2,5,4,6], 4)\n",
        "  "
      ],
      "execution_count": 0,
      "outputs": [
        {
          "output_type": "execute_result",
          "data": {
            "text/plain": [
              "[2, 5, 40, 6]"
            ]
          },
          "metadata": {
            "tags": []
          },
          "execution_count": 16
        }
      ]
    },
    {
      "cell_type": "markdown",
      "metadata": {
        "id": "dVl36lvlWLdV",
        "colab_type": "text"
      },
      "source": [
        "# Mission 3\n",
        "\n",
        "Crée une fonction qui ajoute un élement à la fin de la liste et supprime le premier élément pour que la liste garde la même taille."
      ]
    },
    {
      "cell_type": "code",
      "metadata": {
        "id": "pN3_mD4YSPfb",
        "colab_type": "code",
        "outputId": "167b841e-3dc0-49ad-f782-de0e0aa5f720",
        "colab": {
          "base_uri": "https://localhost:8080/",
          "height": 34
        }
      },
      "source": [
        "def same_size(my_liste, value):\n",
        "  my_liste[4:] = [value]\n",
        "  my_liste.pop(0)\n",
        "  return(my_liste)\n",
        "same_size([1,2,8,6], 56)\n",
        "  "
      ],
      "execution_count": 0,
      "outputs": [
        {
          "output_type": "execute_result",
          "data": {
            "text/plain": [
              "[2, 8, 6, 56]"
            ]
          },
          "metadata": {
            "tags": []
          },
          "execution_count": 38
        }
      ]
    },
    {
      "cell_type": "markdown",
      "metadata": {
        "id": "GCvpkWzXXPTf",
        "colab_type": "text"
      },
      "source": [
        "# Mission 4\n",
        "\n",
        "Crée une fonction qui fait la même chose que la méthode insert à une position aléatoire."
      ]
    },
    {
      "cell_type": "code",
      "metadata": {
        "id": "QjLMjogySPk_",
        "colab_type": "code",
        "outputId": "ed07b28a-391f-4c60-ea2f-a316660d40a7",
        "colab": {
          "base_uri": "https://localhost:8080/",
          "height": 34
        }
      },
      "source": [
        "from random import randrange\n",
        "def random_place(my_liste, value):\n",
        "    my_liste.insert(randrange(len(my_liste) + 1), value)\n",
        "    return(my_liste)\n",
        "random_place([1,5,8,9], 4)\n"
      ],
      "execution_count": 0,
      "outputs": [
        {
          "output_type": "execute_result",
          "data": {
            "text/plain": [
              "[1, 5, 8, 4, 9]"
            ]
          },
          "metadata": {
            "tags": []
          },
          "execution_count": 63
        }
      ]
    },
    {
      "cell_type": "markdown",
      "metadata": {
        "id": "V8ZS3aECXvuZ",
        "colab_type": "text"
      },
      "source": [
        "# Mission 5\n",
        "\n",
        "Crée une fonction qui fait la même chose que la méthode pop pour une liste ne contenant que des caractères. À la différence qu'elle affiche un messsage indiquant le nombre de caractère restant identique à l'élément supprimé. En clair, si il y avait 3 \"b\" dans la liste, et que un a été supprimé par votre fonction, la fonction affichera \"il reste 2 lettre b\""
      ]
    },
    {
      "cell_type": "code",
      "metadata": {
        "id": "ph_j97PoSPmU",
        "colab_type": "code",
        "outputId": "0367fc17-a0e8-4a7f-e71b-7bc174266812",
        "colab": {
          "base_uri": "https://localhost:8080/",
          "height": 34
        }
      },
      "source": [
        "def remaining_lettres(my_liste):\n",
        "  elemsup = my_liste.pop()\n",
        "  remain = my_liste.count(elemsup)\n",
        "    \n",
        "  print(\"il reste {} lettre {}\".format(remain, elemsup))\n",
        "           \n",
        "remaining_lettres([\"p\",\"b\",\"d\",\"j\",\"s\",\"b\",\"b\",\"j\",\"b\"])  "
      ],
      "execution_count": 0,
      "outputs": [
        {
          "output_type": "stream",
          "text": [
            "il reste 3 lettre b\n"
          ],
          "name": "stdout"
        }
      ]
    },
    {
      "cell_type": "markdown",
      "metadata": {
        "id": "geMLdrvAYHKx",
        "colab_type": "text"
      },
      "source": [
        "# Mission 6\n",
        "\n",
        "Crée une fonction qui prend en paramètre 3 listes, et qui indique celles qui sont les plus \"proches\". C'est à dire celle qui ont le plus d'éléments en commun."
      ]
    },
    {
      "cell_type": "code",
      "metadata": {
        "id": "1-cenx3RSPpq",
        "colab_type": "code",
        "outputId": "dbeb14ab-bf49-42a1-cffe-f165315cbf98",
        "colab": {
          "base_uri": "https://localhost:8080/",
          "height": 34
        }
      },
      "source": [
        "def closest(my_liste1, my_liste2, my_liste3):\n",
        "  my_liste1_2 = len(set(my_liste1)& set(my_liste2))\n",
        "  my_liste1_3 = len(set(my_liste1)& set(my_liste3))\n",
        "  my_liste2_3 = len(set(my_liste2)& set(my_liste3))\n",
        "  result = [my_liste1_2, my_liste1_3, my_liste2_3]\n",
        "  result1 = result.index(max(result))\n",
        "  \n",
        "  if result1 == 0:\n",
        "    print(\"my_liste1 et 2 plus proches\")\n",
        "  if result1 == 1:\n",
        "    print(\"my_liste1 et 3 plus proches\")\n",
        "  if result1 == 2:\n",
        "    print(\"my_liste2 et 3 plus proches\") \n",
        "    \n",
        "closest([1,5,7,8], [5,2,1,9], [8,7,5,3])\n",
        "  "
      ],
      "execution_count": 0,
      "outputs": [
        {
          "output_type": "stream",
          "text": [
            "my_liste1 et 3 plus proches\n"
          ],
          "name": "stdout"
        }
      ]
    },
    {
      "cell_type": "markdown",
      "metadata": {
        "id": "Ygonr8C4pEgg",
        "colab_type": "text"
      },
      "source": [
        "# Mission 7\n",
        "\n",
        "Crée une fonction qui affiche les éléments d'une liste de int du plus petit au plus grand. Autrement dit, une fonction qui trie la liste du plus petit au plus grand."
      ]
    },
    {
      "cell_type": "code",
      "metadata": {
        "id": "dlRdqxco5r8U",
        "colab_type": "code",
        "outputId": "09c8fc9c-42aa-4349-ad14-d70170acc9b9",
        "colab": {
          "base_uri": "https://localhost:8080/",
          "height": 34
        }
      },
      "source": [
        "def sort_liste(my_liste):\n",
        "  my_liste.sort()\n",
        "  return(my_liste)\n",
        "sort_liste([5,8,4,9,1])"
      ],
      "execution_count": 0,
      "outputs": [
        {
          "output_type": "execute_result",
          "data": {
            "text/plain": [
              "[1, 4, 5, 8, 9]"
            ]
          },
          "metadata": {
            "tags": []
          },
          "execution_count": 64
        }
      ]
    }
  ]
}